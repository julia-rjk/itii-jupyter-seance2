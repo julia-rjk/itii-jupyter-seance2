{
 "cells": [
  {
   "cell_type": "markdown",
   "metadata": {},
   "source": [
    "# Exercice 1 : Cone\n",
    "## Calculer le volume d'un cône"
   ]
  },
  {
   "cell_type": "code",
   "execution_count": 1,
   "metadata": {
    "scrolled": true
   },
   "outputs": [
    {
     "name": "stdout",
     "output_type": "stream",
     "text": [
      "Rayon : 5\n",
      "Hauteur : 10\n",
      "Volume du cône de hauteur 10.0 et de rayon 5.0 = 261.79938779914943\n"
     ]
    }
   ],
   "source": [
    "import numpy as np\n",
    "rayon = input(\"Rayon : \")\n",
    "rayon = float(rayon)\n",
    "h = input(\"Hauteur : \")\n",
    "h = float(h)\n",
    "vol = rayon**2 * h * np.pi / 3\n",
    "print(f\"Volume du cône de hauteur {h} et de rayon {rayon} = {vol}\")"
   ]
  },
  {
   "cell_type": "markdown",
   "metadata": {},
   "source": [
    "# Exercice 2 : Somme sur les entiers\n",
    "## 1. Pour un entier **n** fixé, programmer le calcul de la somme S<sub>n</sub>=1<sup>3</sup>+2<sup>3</sup>+3<sup>3</sup>+···+n<sup>3</sup>"
   ]
  },
  {
   "cell_type": "code",
   "execution_count": 2,
   "metadata": {},
   "outputs": [
    {
     "name": "stdout",
     "output_type": "stream",
     "text": [
      "n : 5\n",
      "Somme des entiers 100\n"
     ]
    }
   ],
   "source": [
    "import numpy as np\n",
    "n = input(\"n : \")\n",
    "n = int(n)\n",
    "entiers = np.arange(n)\n",
    "somme = np.sum([i*i*i for i in entiers])\n",
    "print(f\"Somme des entiers {somme}\")"
   ]
  },
  {
   "cell_type": "markdown",
   "metadata": {},
   "source": [
    "## 2. Définir un programme qui pour une valeur $n$, calcul la somme des $n$ premiers entiers non nuls : $$S_n = 1+2+3+···+n$$"
   ]
  },
  {
   "cell_type": "code",
   "execution_count": 3,
   "metadata": {},
   "outputs": [
    {
     "name": "stdout",
     "output_type": "stream",
     "text": [
      "n : 5\n",
      "Somme des n premiers entiers = 10\n"
     ]
    }
   ],
   "source": [
    "import numpy as np\n",
    "n = input(\"n : \")\n",
    "n = int(n)\n",
    "entiers = np.arange(n)\n",
    "somme = np.sum(entiers)\n",
    "print(f\"Somme des n premiers entiers = {somme}\")"
   ]
  },
  {
   "cell_type": "markdown",
   "metadata": {},
   "source": [
    "# Exercice 3 : manipulation des variables :\n",
    "## a) Combien y-a-t-il d’occurrences du chiffre1 dans les nombres de 1 à 999 ? \n",
    "\n",
    "Par exemple le chiffre 1 apparaît unefois dans 51 mais deux fois dans 131"
   ]
  },
  {
   "cell_type": "code",
   "execution_count": 3,
   "metadata": {},
   "outputs": [
    {
     "name": "stdout",
     "output_type": "stream",
     "text": [
      "Nombre de '1' : 7\n"
     ]
    }
   ],
   "source": [
    "import numpy as np\n",
    "n = 0\n",
    "for entier in np.arange(15) :\n",
    "    for c in str(entier) :\n",
    "        if(c == '1'): n+=1\n",
    "print(f\"Nombre de '1' : {n}\")"
   ]
  },
  {
   "cell_type": "markdown",
   "metadata": {},
   "source": [
    "## b) Écrire une fonction qui calcule l’écriture décimale d’un entier, sans recourir au log  \n",
    "L’écriture décimale d’un nombre, c’est associer à un entier N la suite de ses chiffres $[a_0,a_1,...,a_n]$ de sorte\n",
    "que $a_i$ soit le i-ème chiffre de N. \\\n",
    "C’est-à-dire $N=a_n10^n+a_{n−1}10^{n−1}+···+a_210^2+a_110+a_0$ \\\n",
    "Avec $a_i ∈$ {0,1,...,9} où $a_0$ est le chiffre des unités, $a_1$ celui des dizaines, $a_2$ celui des centaines,..."
   ]
  },
  {
   "cell_type": "code",
   "execution_count": 55,
   "metadata": {},
   "outputs": [
    {
     "name": "stdout",
     "output_type": "stream",
     "text": [
      "N : 152\n",
      "a2=1\n",
      "a1=5\n",
      "a0=2\n"
     ]
    }
   ],
   "source": [
    "#Exemple : N = 152 # = 1x10^2 + 5x10^1 + 2 -> a_2 = 1, a_1 = 5 et a_0 = 2\n",
    "\n",
    "N = input(\"N : \")\n",
    "N = int(N)\n",
    "\n",
    "n = 9\n",
    "\n",
    "while n >= 0 :\n",
    "    an = N//10**n\n",
    "    reste = N%10**n\n",
    "    if an != 0: print(f\"a{n}={an}\")\n",
    "    N = reste\n",
    "    n = n-1"
   ]
  },
  {
   "cell_type": "markdown",
   "metadata": {},
   "source": [
    "# Exercice 4 : Calcul d'une valeur approchée de $\\pi$\n",
    "## Principe de la méthode :\n",
    "Il est possible de calculer une approximation du nombre de $\\pi$ par la méthode de Monte-Carlo, c’est à dire avec l’aide du hasard et des probabilités.  \n",
    " \n",
    "Pour introduire le nombre $\\pi$ on va calculer la probabilité qu'un point de coordonnées $(x,y)$, pris alléatoirement dans un carré de coté unité, soit en fait dans le cercle circonscrit au carré de coté unité.   \n",
    "La probabilité que le point soit à l'intérieur du cercle est égale au rapport : $$prob = \\frac{surface \\, du \\, cercle}{surface \\, du \\, rectangle} = \\frac {\\frac{\\pi}{4}}{1} = {\\frac{\\pi}{4}}$$  \n",
    "On en déduit que $\\pi = 4 \\times Prob$\n",
    "## Implémentation de la méthode :\n",
    "Il faut maintenant calculer $Prob$. Pour calculer la probabilité on va générer de façon alléatoire un grand nombre de points dont les coordonnées seront comprise entre 0 et 1, donc à l'intérieur du carré de coté unité. On démonbre ensuite le nombre de points qui se sont trouvés à l'intérieur et à l'éxtérieur du cercle de rayon 1. Ces nombres sont une approximation de la surface du cercle et de la surface comprise entre le cercle et le rectangle. On peut donc donner une approximation de la probabilté $Prob$ en faisant le rapport : $$Prob= \\frac{nombre\\, de \\, points\\, dans\\, le\\, cercle}{nombre\\, de\\, points\\, dans\\, le\\, cercle\\, +\\, nombre\\, de\\, points\\, en\\, dehors\\, du\\, cercle} $$"
   ]
  },
  {
   "cell_type": "code",
   "execution_count": 28,
   "metadata": {},
   "outputs": [
    {
     "data": {
      "image/png": "[encoded data removed]",
      "text/plain": [
       "<Figure size 432x288 with 1 Axes>"
      ]
     },
     "metadata": {
      "needs_background": "light"
     },
     "output_type": "display_data"
    },
    {
     "name": "stdout",
     "output_type": "stream",
     "text": [
      "pi = 3.172\n"
     ]
    }
   ],
   "source": [
    "import random as rand\n",
    "import math\n",
    "import numpy as np\n",
    "import matplotlib.pyplot as plt\n",
    "\n",
    "inside = 0\n",
    "outside = 0\n",
    "x = [np.cos(teta) for teta in np.arange(0,np.pi/2,np.pi/2000)]\n",
    "y = [np.sin(teta) for teta in np.arange(0,np.pi/2,np.pi/2000)]\n",
    "fig1, ax = plt.subplots()\n",
    "ax.set_xlim(0,1)\n",
    "#ax.axes.set_box_aspect(1)\n",
    "plt.axes().set_aspect('equal')\n",
    "plt.plot(x,y,'k-',lw=5)\n",
    "\n",
    "for i in range(1000) :\n",
    "    x=rand.random()\n",
    "    y=rand.random()\n",
    "\n",
    "    \n",
    "    r = math.sqrt(x*x+y*y)\n",
    "    if r <=1 :\n",
    "        inside += 1\n",
    "        plt.plot(x,y,'bo')\n",
    "\n",
    "    else :\n",
    "        outside +=1\n",
    "        plt.plot(x,y,'ro')\n",
    "        \n",
    "plt.show()\n",
    "        \n",
    "\n",
    "print(f\"pi = {inside/(inside+outside)*4}\")"
   ]
  }
 ],
 "metadata": {
  "kernelspec": {
   "display_name": "Python 3",
   "language": "python",
   "name": "python3"
  },
  "language_info": {
   "codemirror_mode": {
    "name": "ipython",
    "version": 3
   },
   "file_extension": ".py",
   "mimetype": "text/x-python",
   "name": "python",
   "nbconvert_exporter": "python",
   "pygments_lexer": "ipython3",
   "version": "3.7.6"
  }
 },
 "nbformat": 4,
 "nbformat_minor": 4
}
